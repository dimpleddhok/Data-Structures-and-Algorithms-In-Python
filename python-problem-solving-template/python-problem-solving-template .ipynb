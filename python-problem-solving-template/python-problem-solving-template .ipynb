#!/usr/bin/env python
# coding: utf-8

# # Check if both string have same alphabets(hashtable)
# 
# _To learn how to use this template, check out the course ["Data Structures and Algorithms in Python"](https://jovian.ai/learn/data-structures-and-algorithms-in-python)._
# 
# 
# 

# ## How to run the code and save your work
# 
# The recommended way to run this notebook is to click the "Run" button at the top of this page, and select "Run on Binder". This will run the notebook on [mybinder.org](https://mybinder.org), a free online service for running Jupyter notebooks. 
# 
# This tutorial is an executable [Jupyter notebook](https://jupyter.org). You can _run_ this tutorial and experiment with the code examples in a couple of ways: *using free online resources* (recommended) or *on your computer*.
# 
# #### Option 1: Running using free online resources (1-click, recommended)
# 
# The easiest way to start executing the code is to click the **Run** button at the top of this page and select **Run on Binder**. You can also select "Run on Colab" or "Run on Kaggle", but you'll need to create an account on [Google Colab](https://colab.research.google.com) or [Kaggle](https://kaggle.com) to use these platforms.
# 
# 
# #### Option 2: Running on your computer locally
# 
# To run the code on your computer locally, you'll need to set up [Python](https://www.python.org), download the notebook and install the required libraries. We recommend using the [Conda](https://docs.conda.io/projects/conda/en/latest/user-guide/install/) distribution of Python. Click the **Run** button at the top of this page, select the **Run Locally** option, and follow the instructions.
# 
# #### Saving your work
# 
# Before staring the assignment, let's save a snapshot of the assignment to your [Jovian](https://jovian.ai) profile, so that you can access it later, and continue your work.

# In[3]:


project_name = "Check if both string have same alphabets(hashtable)" # give it an appropriate name


# In[4]:


get_ipython().system('pip install jovian --upgrade --quiet')


# In[5]:


import jovian


# In[6]:


jovian.commit(project=project_name)


# ## Problem Statement
# 
# 
# > Check if both string have same alphabets and the length of the string is same
# 
# 
# Source: ??? (link to the source)

# ## The Method
# 
# Here's the systematic strategy we'll apply for solving problems:
# 
# 1. State the problem clearly. Identify the input & output formats.
# 2. Come up with some example inputs & outputs. Try to cover all edge cases.
# 3. Come up with a correct solution for the problem. State it in plain English.
# 4. Implement the solution and test it using example inputs. Fix bugs, if any.
# 5. Analyze the algorithm's complexity and identify inefficiencies, if any.
# 6. Apply the right technique to overcome the inefficiency. Repeat steps 3 to 6.
# 
# This approach is explained in detail in [Lesson 1](https://jovian.ai/learn/data-structures-and-algorithms-in-python/lesson/lesson-1-binary-search-linked-lists-and-complexity) of the course. Let's apply this approach step-by-step.

# ## Solution
# 
# 
# ### 1. State the problem clearly. Identify the input & output formats.
# 
# While this problem is stated clearly enough, it's always useful to try and express in your own words, in a way that makes it most clear for you. 
# 
# 
# **Problem**
# 
# >In this we take 2 string as a input and check if that the length and the characters of both strings are same.
# <br/>
# 
# 
# **Input**
# 
# 1. String1
# 2. String2
# 
# (add more if required)
# 
# 
# **Output**
# 
# 1. Boolean
# 
# 
# (add more if required)
# 
# <br/>
# 
# Based on the above, we can now create a signature of our function:

# In[7]:


def are_same1(s1,s2):
    pass


# Save and upload your work before continuing.

# In[8]:


import jovian


# In[9]:


jovian.commit()


# ### 2. Come up with some example inputs & outputs. Try to cover all edge cases.
# 
# Our function should be able to handle any set of valid inputs we pass into it. Here's a list of some possible variations we might encounter:
# 
#  1. Strings with different characters .
#  2. Strings with different length.
#  3. strings with exact same word.
#  4. strings with same characters*
# 
# (add more if required)
# 
# 
# We'll express our test cases as dictionaries, to test them easily. Each dictionary will contain 2 keys: `input` (a dictionary itself containing one key for each argument to the function and `output` (the expected result from the function). 

# In[11]:


test0 = {
    'input': {
        's1': "rats",
        's2': "soup"
    },
    'output': False
}

#Strings with different characters .
# Strings with different length.
test1 = {
    'input': {
        's1': "rat",
        's2': "soup"
    },
    'output': False
}


# In[48]:


# Strings with exact same word.
test2 = {
    'input': {
        's1': "rat",
        's2': "rat"
    },
    'output': True
}


# In[49]:


# Strings with same characters
test3= {
    'input': {
        's1': "study",
        's2': "dusty"
    },
    'output': True
}


# Create one test case for each of the scenarios listed above. We'll store our test cases in an array called `tests`.

# In[12]:


tests = [test0,test1,test2,test3]


# In[ ]:


tests.append(test)


# In[ ]:


tests.append({
    'input': {
        ???
    },
    'output': ???
})


# In[ ]:


# add more test cases


# In[ ]:





# ### 3. Come up with a correct solution for the problem. State it in plain English.
# 
# Our first goal should always be to come up with a _correct_ solution to the problem, which may not necessarily be the most _efficient_ solution. Come with a correct solution and explain it in simple words below:
# 
#  1. Take 2 string as a input.
#  2. Check if both strings length is same.
#  3. then take element as a key of both string.
#  4. Check if both the strings key's value are correct.
#  5. If all the condition pass then returns True
# 
# (add more steps if required)
# 
# 
# Let's save and upload our work before continuing.
# 
# 
# 

# In[13]:


jovian.commit()


# ###  4. Implement the solution and test it using example inputs. Fix bugs, if any.

# In[14]:



def are_same1(s1,s2):
    if len(s1)!=len(s2):
        return False
    word1={}
    word2={}
    for ch in s1:
        if ch in word1:
            word1[ch]+=1
        else :
            word1[ch]=1
    for ch in s2:
        if ch in word2:
            word2[ch]+=1
        else :
            word2[ch]=1
    for key in word1:
        if key not in word2 or word1[key]!=word2[key]:
            return False
    return True


# In[15]:


s1= "study"
s2= "dusty"


are_same1(s1,s2)


# In[ ]:





# In[ ]:





# We can test the function by passing the input to it directly or by using the `evaluate_test_case` function from `jovian`.

# In[16]:


from jovian.pythondsa import evaluate_test_case


# In[17]:


evaluate_test_case(are_same1, test0)


# Evaluate your function against all the test cases together using the `evaluate_test_cases` (plural) function from `jovian`.

# In[18]:


from jovian.pythondsa import evaluate_test_cases


# In[19]:


results = evaluate_test_cases(are_same1, tests)


# Verify that all the test cases were evaluated. We expect them all to fail, since we haven't implemented the function yet.
# 
# Let's save our work before continuing.

# In[20]:


jovian.commit()


# In[ ]:





# ### 5. Analyze the algorithm's complexity and identify inefficiencies, if any.

# In[22]:


time_complexity="O(n)"


# In[23]:


space_complexity="O(n)"


# In[ ]:





# In[24]:


jovian.commit()


# ### 6. Apply the right technique to overcome the inefficiency. Repeat steps 3 to 6.

# In[ ]:





# In[ ]:





# In[20]:


jovian.commit()


# ### 7. Come up with a correct solution for the problem. State it in plain English.
# 
# Come with the optimized correct solution and explain it in simple words below:
# 
#  1. Check the length of the string.
#  2. And return true
#  3. Using python sort function .
#  4. check if both strings are same.
#  5. Return True
# 
# (add more steps if required)
# 
# 
# Let's save and upload our work before continuing.
# 
# 

# In[25]:


jovian.commit()


# In[ ]:





# In[ ]:





# In[ ]:





# ### 8. Implement the solution and test it using example inputs. Fix bugs, if any.

# In[26]:


def are_same2(s1,s2):
    if len(s1)!=len(s2):
        return False
    return sorted(s1)==sorted(s2)


# In[ ]:





# In[27]:


s1="dusty"
s2="study"
are_same2(s1,s2)


# In[29]:


from jovian.pythondsa import evaluate_test_case
evaluate_test_case(are_same2, test0)


# In[30]:


from jovian.pythondsa import evaluate_test_cases
evaluate_test_cases(are_same2, tests)


# ### 9. Analyze the algorithm's complexity and identify inefficiencies, if any.

# In[32]:



time_complexity="O(nlogn)"



# In[33]:


space_complexity="O(n)"


# In[ ]:





# If you found the problem on an external platform, you can make a submission to test your solution.
# 
# Share your approach and start a discussion on the Jovian forum: https://jovian.ai/forum/c/data-structures-and-algorithms-in-python/78

# In[ ]:


jovian.commit()


# In[ ]:




